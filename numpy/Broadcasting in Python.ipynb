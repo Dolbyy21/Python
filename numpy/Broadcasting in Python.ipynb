{
 "cells": [
  {
   "cell_type": "code",
   "execution_count": 1,
   "id": "ba81b57e",
   "metadata": {},
   "outputs": [],
   "source": [
    "import numpy as np"
   ]
  },
  {
   "cell_type": "code",
   "execution_count": 2,
   "id": "01e63564",
   "metadata": {},
   "outputs": [],
   "source": [
    "l = [[1,2,3],[4,5,6],[7,8,9]]\n",
    "a = np.array(l)"
   ]
  },
  {
   "cell_type": "code",
   "execution_count": 3,
   "id": "571a90d8",
   "metadata": {},
   "outputs": [
    {
     "data": {
      "text/plain": [
       "array([[1, 2, 3],\n",
       "       [4, 5, 6],\n",
       "       [7, 8, 9]])"
      ]
     },
     "execution_count": 3,
     "metadata": {},
     "output_type": "execute_result"
    }
   ],
   "source": [
    "a"
   ]
  },
  {
   "cell_type": "code",
   "execution_count": 4,
   "id": "d8a5377a",
   "metadata": {},
   "outputs": [
    {
     "data": {
      "text/plain": [
       "array([[ 4,  5,  6],\n",
       "       [ 7,  8,  9],\n",
       "       [10, 11, 12]])"
      ]
     },
     "execution_count": 4,
     "metadata": {},
     "output_type": "execute_result"
    }
   ],
   "source": [
    "a+3"
   ]
  },
  {
   "cell_type": "code",
   "execution_count": 5,
   "id": "816c5cd8",
   "metadata": {},
   "outputs": [
    {
     "data": {
      "text/plain": [
       "array([[ 3,  6,  9],\n",
       "       [12, 15, 18],\n",
       "       [21, 24, 27]])"
      ]
     },
     "execution_count": 5,
     "metadata": {},
     "output_type": "execute_result"
    }
   ],
   "source": [
    "a*3"
   ]
  },
  {
   "cell_type": "code",
   "execution_count": 6,
   "id": "c78ad6ca",
   "metadata": {},
   "outputs": [],
   "source": [
    "def fun(x,p):\n",
    "    return x**p\n",
    "a = fun(a,2)"
   ]
  },
  {
   "cell_type": "code",
   "execution_count": 15,
   "id": "a833e772",
   "metadata": {},
   "outputs": [
    {
     "data": {
      "text/plain": [
       "array([[ 1,  4,  9],\n",
       "       [16, 25, 36],\n",
       "       [49, 64, 81]], dtype=int32)"
      ]
     },
     "execution_count": 15,
     "metadata": {},
     "output_type": "execute_result"
    }
   ],
   "source": [
    "a"
   ]
  },
  {
   "cell_type": "code",
   "execution_count": 16,
   "id": "0553d812",
   "metadata": {},
   "outputs": [],
   "source": [
    "l = [1,2,3]\n",
    "b = np.array(l)"
   ]
  },
  {
   "cell_type": "code",
   "execution_count": 17,
   "id": "a657bd06",
   "metadata": {},
   "outputs": [
    {
     "data": {
      "text/plain": [
       "array([[ 2,  6, 12],\n",
       "       [17, 27, 39],\n",
       "       [50, 66, 84]])"
      ]
     },
     "execution_count": 17,
     "metadata": {},
     "output_type": "execute_result"
    }
   ],
   "source": [
    "a+b"
   ]
  },
  {
   "cell_type": "code",
   "execution_count": 19,
   "id": "62ac1640",
   "metadata": {},
   "outputs": [
    {
     "name": "stdout",
     "output_type": "stream",
     "text": [
      "(3, 3)\n",
      "(3,)\n"
     ]
    },
    {
     "data": {
      "text/plain": [
       "array([ 36, 174, 420])"
      ]
     },
     "execution_count": 19,
     "metadata": {},
     "output_type": "execute_result"
    }
   ],
   "source": [
    "print(a.shape)\n",
    "print(b.shape)\n",
    "np.dot(a,b) "
   ]
  },
  {
   "cell_type": "code",
   "execution_count": 20,
   "id": "1d6730f1",
   "metadata": {},
   "outputs": [],
   "source": [
    "fruits = [[56.0,0.0,4.4,68.0],[1.2,104.0,52.0,8.0],[1.8,135.0,99.0,0.9]]"
   ]
  },
  {
   "cell_type": "code",
   "execution_count": 21,
   "id": "57de22a0",
   "metadata": {},
   "outputs": [],
   "source": [
    "fr = np.array(fruits)"
   ]
  },
  {
   "cell_type": "code",
   "execution_count": 22,
   "id": "5acc8e2f",
   "metadata": {},
   "outputs": [
    {
     "data": {
      "text/plain": [
       "array([[ 56. ,   0. ,   4.4,  68. ],\n",
       "       [  1.2, 104. ,  52. ,   8. ],\n",
       "       [  1.8, 135. ,  99. ,   0.9]])"
      ]
     },
     "execution_count": 22,
     "metadata": {},
     "output_type": "execute_result"
    }
   ],
   "source": [
    "fr"
   ]
  },
  {
   "cell_type": "code",
   "execution_count": 23,
   "id": "311c170f",
   "metadata": {},
   "outputs": [],
   "source": [
    "sum_col = fr.sum(axis = 0)"
   ]
  },
  {
   "cell_type": "code",
   "execution_count": 24,
   "id": "68f6773b",
   "metadata": {},
   "outputs": [
    {
     "data": {
      "text/plain": [
       "array([ 59. , 239. , 155.4,  76.9])"
      ]
     },
     "execution_count": 24,
     "metadata": {},
     "output_type": "execute_result"
    }
   ],
   "source": [
    "sum_col"
   ]
  },
  {
   "cell_type": "code",
   "execution_count": 26,
   "id": "84dae890",
   "metadata": {},
   "outputs": [
    {
     "name": "stdout",
     "output_type": "stream",
     "text": [
      "(4,)\n",
      "(3, 4)\n"
     ]
    }
   ],
   "source": [
    "print(sum_col.shape)\n",
    "print(fr.shape)\n",
    "#percent = (fr/sum_col)*100"
   ]
  },
  {
   "cell_type": "code",
   "execution_count": 27,
   "id": "442addc5",
   "metadata": {},
   "outputs": [],
   "source": [
    "sum_col = sum_col.reshape(1,4)"
   ]
  },
  {
   "cell_type": "code",
   "execution_count": 31,
   "id": "130fdab9",
   "metadata": {},
   "outputs": [],
   "source": [
    "col_sum = fr.sum(axis =  0)"
   ]
  },
  {
   "cell_type": "code",
   "execution_count": 35,
   "id": "2b1a9dc8",
   "metadata": {},
   "outputs": [
    {
     "data": {
      "text/plain": [
       "array([ 59. , 239. , 155.4,  76.9])"
      ]
     },
     "execution_count": 35,
     "metadata": {},
     "output_type": "execute_result"
    }
   ],
   "source": [
    "percent = (fr/col_sum)*100\n",
    "col_sum.shape\n",
    "col_sum"
   ]
  },
  {
   "cell_type": "code",
   "execution_count": 33,
   "id": "6cc6792b",
   "metadata": {},
   "outputs": [
    {
     "data": {
      "text/plain": [
       "array([[94.91525424,  0.        ,  2.83140283, 88.42652796],\n",
       "       [ 2.03389831, 43.51464435, 33.46203346, 10.40312094],\n",
       "       [ 3.05084746, 56.48535565, 63.70656371,  1.17035111]])"
      ]
     },
     "execution_count": 33,
     "metadata": {},
     "output_type": "execute_result"
    }
   ],
   "source": [
    "percent"
   ]
  },
  {
   "cell_type": "code",
   "execution_count": 37,
   "id": "3895fc84",
   "metadata": {},
   "outputs": [
    {
     "name": "stdout",
     "output_type": "stream",
     "text": [
      "shape of array1d before reshaping:  (4,)\n",
      "shape of array1d after reshaping:  (1, 4)\n",
      "array1d is a martrix of rank 1\n"
     ]
    }
   ],
   "source": [
    "array1d = np.array([1,2,3,4])\n",
    "print(\"shape of array1d before reshaping: \", array1d.shape)\n",
    "array1d = array1d.reshape(1,4)\n",
    "print(\"shape of array1d after reshaping: \", array1d.shape)\n",
    "#rank of matrix can be found using np.linalg.matrix_rank() function\n",
    "print(\"array1d is a martrix of rank {}\".format(np.linalg.matrix_rank(array1d)))"
   ]
  },
  {
   "cell_type": "code",
   "execution_count": null,
   "id": "b170f9f0",
   "metadata": {},
   "outputs": [],
   "source": []
  }
 ],
 "metadata": {
  "kernelspec": {
   "display_name": "Python 3 (ipykernel)",
   "language": "python",
   "name": "python3"
  },
  "language_info": {
   "codemirror_mode": {
    "name": "ipython",
    "version": 3
   },
   "file_extension": ".py",
   "mimetype": "text/x-python",
   "name": "python",
   "nbconvert_exporter": "python",
   "pygments_lexer": "ipython3",
   "version": "3.9.7"
  }
 },
 "nbformat": 4,
 "nbformat_minor": 5
}
