{
 "cells": [
  {
   "cell_type": "markdown",
   "id": "7b9ffff4",
   "metadata": {},
   "source": [
    "# Numpy"
   ]
  },
  {
   "cell_type": "markdown",
   "id": "96cb9682",
   "metadata": {},
   "source": [
    "## numpy's  main objective is to create multidimensional arrays and process them faster"
   ]
  },
  {
   "cell_type": "markdown",
   "id": "2beb9b5f",
   "metadata": {},
   "source": [
    "### Importing numpy "
   ]
  },
  {
   "cell_type": "code",
   "execution_count": 1,
   "id": "ea9ecf21",
   "metadata": {},
   "outputs": [],
   "source": [
    "import numpy as np"
   ]
  },
  {
   "cell_type": "markdown",
   "id": "41095221",
   "metadata": {},
   "source": [
    "### creating a numpy array"
   ]
  },
  {
   "cell_type": "code",
   "execution_count": 2,
   "id": "7d4191d4",
   "metadata": {},
   "outputs": [],
   "source": [
    "first_array = np.array([2,3,4])  # 1D array"
   ]
  },
  {
   "cell_type": "code",
   "execution_count": 3,
   "id": "70b199f0",
   "metadata": {},
   "outputs": [
    {
     "data": {
      "text/plain": [
       "array([2, 3, 4])"
      ]
     },
     "execution_count": 3,
     "metadata": {},
     "output_type": "execute_result"
    }
   ],
   "source": [
    "first_array"
   ]
  },
  {
   "cell_type": "code",
   "execution_count": 4,
   "id": "0cbc8f06",
   "metadata": {},
   "outputs": [
    {
     "name": "stdout",
     "output_type": "stream",
     "text": [
      "[2 3 4]\n"
     ]
    }
   ],
   "source": [
    "print(first_array)"
   ]
  },
  {
   "cell_type": "markdown",
   "id": "c6a4fc8f",
   "metadata": {},
   "source": [
    "### insert and append"
   ]
  },
  {
   "cell_type": "code",
   "execution_count": 5,
   "id": "d9f69c5c",
   "metadata": {},
   "outputs": [
    {
     "data": {
      "text/plain": [
       "array([2, 3, 4])"
      ]
     },
     "execution_count": 5,
     "metadata": {},
     "output_type": "execute_result"
    }
   ],
   "source": [
    "first_array"
   ]
  },
  {
   "cell_type": "code",
   "execution_count": 6,
   "id": "53713092",
   "metadata": {},
   "outputs": [
    {
     "data": {
      "text/plain": [
       "array([2, 3, 4, 5])"
      ]
     },
     "execution_count": 6,
     "metadata": {},
     "output_type": "execute_result"
    }
   ],
   "source": [
    "np.insert(first_array, 3, 5)"
   ]
  },
  {
   "cell_type": "code",
   "execution_count": 7,
   "id": "a0c08504",
   "metadata": {},
   "outputs": [],
   "source": [
    "second_arr = np.array([7,8,9])"
   ]
  },
  {
   "cell_type": "code",
   "execution_count": 8,
   "id": "7702709c",
   "metadata": {},
   "outputs": [
    {
     "data": {
      "text/plain": [
       "array([1, 2, 3, 4, 5, 6, 7, 8, 9])"
      ]
     },
     "execution_count": 8,
     "metadata": {},
     "output_type": "execute_result"
    }
   ],
   "source": [
    "np.append([[1,2,3],[4,5,6]],[7,8,9])"
   ]
  },
  {
   "cell_type": "code",
   "execution_count": 9,
   "id": "66a3a9c8",
   "metadata": {},
   "outputs": [
    {
     "data": {
      "text/plain": [
       "array([2, 3, 4, 7, 8, 9])"
      ]
     },
     "execution_count": 9,
     "metadata": {},
     "output_type": "execute_result"
    }
   ],
   "source": [
    "np.append([first_array],second_arr)"
   ]
  },
  {
   "cell_type": "markdown",
   "id": "bd45359e",
   "metadata": {},
   "source": [
    "### two dimensional array"
   ]
  },
  {
   "cell_type": "code",
   "execution_count": 10,
   "id": "29866de5",
   "metadata": {},
   "outputs": [],
   "source": [
    "two_D_array = np.array([\n",
    "                        [1,2,3],\n",
    "                        [11,22,33]\n",
    "                        ])"
   ]
  },
  {
   "cell_type": "code",
   "execution_count": 11,
   "id": "f56c0c9c",
   "metadata": {},
   "outputs": [
    {
     "data": {
      "text/plain": [
       "array([[ 1,  2,  3],\n",
       "       [11, 22, 33]])"
      ]
     },
     "execution_count": 11,
     "metadata": {},
     "output_type": "execute_result"
    }
   ],
   "source": [
    "two_D_array"
   ]
  },
  {
   "cell_type": "code",
   "execution_count": 12,
   "id": "29c40a55",
   "metadata": {},
   "outputs": [
    {
     "name": "stdout",
     "output_type": "stream",
     "text": [
      "[[ 1  2  3]\n",
      " [11 22 33]]\n"
     ]
    }
   ],
   "source": [
    "print(two_D_array)"
   ]
  },
  {
   "cell_type": "markdown",
   "id": "493c7fb5",
   "metadata": {},
   "source": [
    "### delete"
   ]
  },
  {
   "cell_type": "code",
   "execution_count": 13,
   "id": "5fd792b8",
   "metadata": {},
   "outputs": [
    {
     "data": {
      "text/plain": [
       "array([[1, 2, 3]])"
      ]
     },
     "execution_count": 13,
     "metadata": {},
     "output_type": "execute_result"
    }
   ],
   "source": [
    "np.delete(two_D_array,1,0)   # axis = 0 deletes the row"
   ]
  },
  {
   "cell_type": "code",
   "execution_count": 14,
   "id": "6be4a248",
   "metadata": {},
   "outputs": [
    {
     "data": {
      "text/plain": [
       "array([[ 1,  3],\n",
       "       [11, 33]])"
      ]
     },
     "execution_count": 14,
     "metadata": {},
     "output_type": "execute_result"
    }
   ],
   "source": [
    "np.delete(two_D_array,1,1)   # axis = 1 delets the column"
   ]
  },
  {
   "cell_type": "code",
   "execution_count": 15,
   "id": "6aa69227",
   "metadata": {},
   "outputs": [
    {
     "data": {
      "text/plain": [
       "array([[ 1,  2,  3],\n",
       "       [11, 22, 33]])"
      ]
     },
     "execution_count": 15,
     "metadata": {},
     "output_type": "execute_result"
    }
   ],
   "source": [
    "two_D_array"
   ]
  },
  {
   "cell_type": "markdown",
   "id": "c5d1f150",
   "metadata": {},
   "source": [
    "### arange"
   ]
  },
  {
   "cell_type": "code",
   "execution_count": 16,
   "id": "cb416433",
   "metadata": {},
   "outputs": [],
   "source": [
    "my_arr = np.arange(1,11)"
   ]
  },
  {
   "cell_type": "code",
   "execution_count": 17,
   "id": "5e83d343",
   "metadata": {},
   "outputs": [
    {
     "data": {
      "text/plain": [
       "array([ 1,  2,  3,  4,  5,  6,  7,  8,  9, 10])"
      ]
     },
     "execution_count": 17,
     "metadata": {},
     "output_type": "execute_result"
    }
   ],
   "source": [
    "my_arr"
   ]
  },
  {
   "cell_type": "code",
   "execution_count": 18,
   "id": "1251a89b",
   "metadata": {},
   "outputs": [],
   "source": [
    "steps_arange_arr = np.arange(1,11,5)"
   ]
  },
  {
   "cell_type": "code",
   "execution_count": 19,
   "id": "f4e1af9a",
   "metadata": {},
   "outputs": [
    {
     "name": "stdout",
     "output_type": "stream",
     "text": [
      "[1 6]\n"
     ]
    }
   ],
   "source": [
    "print(steps_arange_arr)"
   ]
  },
  {
   "cell_type": "code",
   "execution_count": 20,
   "id": "d1bf2956",
   "metadata": {},
   "outputs": [],
   "source": [
    "steps_arange_arr = np.arange(1,5,3)"
   ]
  },
  {
   "cell_type": "code",
   "execution_count": 21,
   "id": "01aeb154",
   "metadata": {},
   "outputs": [
    {
     "name": "stdout",
     "output_type": "stream",
     "text": [
      "[1 4]\n"
     ]
    }
   ],
   "source": [
    "print(steps_arange_arr)"
   ]
  },
  {
   "cell_type": "code",
   "execution_count": 22,
   "id": "3fa91813",
   "metadata": {},
   "outputs": [],
   "source": [
    "steps_arange_arr = np.arange(0,2,0.7)"
   ]
  },
  {
   "cell_type": "code",
   "execution_count": 23,
   "id": "3de6cdd5",
   "metadata": {},
   "outputs": [
    {
     "name": "stdout",
     "output_type": "stream",
     "text": [
      "[0.  0.7 1.4]\n"
     ]
    }
   ],
   "source": [
    "print(steps_arange_arr)"
   ]
  },
  {
   "cell_type": "markdown",
   "id": "69fc84c4",
   "metadata": {},
   "source": [
    "### reshape"
   ]
  },
  {
   "cell_type": "code",
   "execution_count": 24,
   "id": "01c3b87f",
   "metadata": {},
   "outputs": [],
   "source": [
    "my_reshaped_arr = my_arr.reshape(5,2)      # to use reshape size must be equal to size of previous shape "
   ]
  },
  {
   "cell_type": "code",
   "execution_count": 25,
   "id": "f74cb24a",
   "metadata": {},
   "outputs": [
    {
     "data": {
      "text/plain": [
       "array([[ 1,  2],\n",
       "       [ 3,  4],\n",
       "       [ 5,  6],\n",
       "       [ 7,  8],\n",
       "       [ 9, 10]])"
      ]
     },
     "execution_count": 25,
     "metadata": {},
     "output_type": "execute_result"
    }
   ],
   "source": [
    "my_reshaped_arr"
   ]
  },
  {
   "cell_type": "code",
   "execution_count": 26,
   "id": "3678acc9",
   "metadata": {},
   "outputs": [],
   "source": [
    "my_reshaped_arr = my_arr.reshape(2,5)    "
   ]
  },
  {
   "cell_type": "code",
   "execution_count": 27,
   "id": "d2c088f5",
   "metadata": {},
   "outputs": [
    {
     "data": {
      "text/plain": [
       "array([[ 1,  2,  3,  4,  5],\n",
       "       [ 6,  7,  8,  9, 10]])"
      ]
     },
     "execution_count": 27,
     "metadata": {},
     "output_type": "execute_result"
    }
   ],
   "source": [
    "my_reshaped_arr"
   ]
  },
  {
   "cell_type": "markdown",
   "id": "5b547ee5",
   "metadata": {},
   "source": [
    "### ndim"
   ]
  },
  {
   "cell_type": "code",
   "execution_count": 28,
   "id": "a724e3cc",
   "metadata": {},
   "outputs": [
    {
     "data": {
      "text/plain": [
       "1"
      ]
     },
     "execution_count": 28,
     "metadata": {},
     "output_type": "execute_result"
    }
   ],
   "source": [
    "my_arr.ndim       # my_arr has one dimension 1D array (10x1)"
   ]
  },
  {
   "cell_type": "code",
   "execution_count": 29,
   "id": "a1e65605",
   "metadata": {},
   "outputs": [
    {
     "data": {
      "text/plain": [
       "2"
      ]
     },
     "execution_count": 29,
     "metadata": {},
     "output_type": "execute_result"
    }
   ],
   "source": [
    "my_reshaped_arr.ndim        # my_reshaped_arr has two dimensions 2D array (2x5)"
   ]
  },
  {
   "cell_type": "markdown",
   "id": "75161c91",
   "metadata": {},
   "source": [
    "### dtype"
   ]
  },
  {
   "cell_type": "code",
   "execution_count": 30,
   "id": "061da46b",
   "metadata": {},
   "outputs": [
    {
     "data": {
      "text/plain": [
       "dtype('int64')"
      ]
     },
     "execution_count": 30,
     "metadata": {},
     "output_type": "execute_result"
    }
   ],
   "source": [
    "my_arr.dtype"
   ]
  },
  {
   "cell_type": "code",
   "execution_count": 31,
   "id": "b6a2ade9",
   "metadata": {},
   "outputs": [],
   "source": [
    "my_arr_dtype_example = np.arange(1,10,dtype = 'float32')"
   ]
  },
  {
   "cell_type": "code",
   "execution_count": 32,
   "id": "068accbe",
   "metadata": {},
   "outputs": [
    {
     "data": {
      "text/plain": [
       "array([1., 2., 3., 4., 5., 6., 7., 8., 9.], dtype=float32)"
      ]
     },
     "execution_count": 32,
     "metadata": {},
     "output_type": "execute_result"
    }
   ],
   "source": [
    "my_arr_dtype_example"
   ]
  },
  {
   "cell_type": "code",
   "execution_count": 33,
   "id": "4fd11607",
   "metadata": {},
   "outputs": [
    {
     "data": {
      "text/plain": [
       "dtype('float32')"
      ]
     },
     "execution_count": 33,
     "metadata": {},
     "output_type": "execute_result"
    }
   ],
   "source": [
    "my_arr_dtype_example.dtype"
   ]
  },
  {
   "cell_type": "code",
   "execution_count": 34,
   "id": "03426ebe",
   "metadata": {},
   "outputs": [],
   "source": [
    "floating_type_array = np.array([1.0,2.0,30.3])"
   ]
  },
  {
   "cell_type": "code",
   "execution_count": 35,
   "id": "604e3e99",
   "metadata": {},
   "outputs": [
    {
     "data": {
      "text/plain": [
       "dtype('float64')"
      ]
     },
     "execution_count": 35,
     "metadata": {},
     "output_type": "execute_result"
    }
   ],
   "source": [
    "floating_type_array.dtype"
   ]
  },
  {
   "cell_type": "markdown",
   "id": "b1ac48f6",
   "metadata": {},
   "source": [
    "### itemsize"
   ]
  },
  {
   "cell_type": "code",
   "execution_count": 36,
   "id": "3d6aed92",
   "metadata": {},
   "outputs": [
    {
     "data": {
      "text/plain": [
       "8"
      ]
     },
     "execution_count": 36,
     "metadata": {},
     "output_type": "execute_result"
    }
   ],
   "source": [
    "my_arr.itemsize      # dtype = int64 ---> 8x8 = 64"
   ]
  },
  {
   "cell_type": "code",
   "execution_count": 37,
   "id": "a579d858",
   "metadata": {},
   "outputs": [
    {
     "data": {
      "text/plain": [
       "4"
      ]
     },
     "execution_count": 37,
     "metadata": {},
     "output_type": "execute_result"
    }
   ],
   "source": [
    "my_arr_dtype_example.itemsize     #  dtype = float32  ---> 4x8 = 32"
   ]
  },
  {
   "cell_type": "code",
   "execution_count": 38,
   "id": "288c3024",
   "metadata": {},
   "outputs": [
    {
     "data": {
      "text/plain": [
       "8"
      ]
     },
     "execution_count": 38,
     "metadata": {},
     "output_type": "execute_result"
    }
   ],
   "source": [
    "floating_type_array.itemsize      #  dtype = float64  ---> 8x8 = 64"
   ]
  },
  {
   "cell_type": "markdown",
   "id": "fa428030",
   "metadata": {},
   "source": [
    "### type"
   ]
  },
  {
   "cell_type": "code",
   "execution_count": 39,
   "id": "56c75c44",
   "metadata": {},
   "outputs": [
    {
     "data": {
      "text/plain": [
       "numpy.ndarray"
      ]
     },
     "execution_count": 39,
     "metadata": {},
     "output_type": "execute_result"
    }
   ],
   "source": [
    "type(my_arr)"
   ]
  },
  {
   "cell_type": "code",
   "execution_count": 40,
   "id": "6f0f24ca",
   "metadata": {},
   "outputs": [
    {
     "data": {
      "text/plain": [
       "numpy.ndarray"
      ]
     },
     "execution_count": 40,
     "metadata": {},
     "output_type": "execute_result"
    }
   ],
   "source": [
    "type(my_reshaped_arr)"
   ]
  },
  {
   "cell_type": "code",
   "execution_count": 41,
   "id": "5643e0fd",
   "metadata": {},
   "outputs": [
    {
     "name": "stdout",
     "output_type": "stream",
     "text": [
      "<class 'numpy.ndarray'>\n"
     ]
    }
   ],
   "source": [
    "print(type(my_arr_dtype_example))"
   ]
  },
  {
   "cell_type": "markdown",
   "id": "bb486a99",
   "metadata": {},
   "source": [
    "### complex data type"
   ]
  },
  {
   "cell_type": "code",
   "execution_count": 42,
   "id": "c7779f3a",
   "metadata": {},
   "outputs": [],
   "source": [
    "complex_arr = np.array([1+2j, 3+5j])"
   ]
  },
  {
   "cell_type": "code",
   "execution_count": 43,
   "id": "daef5dca",
   "metadata": {},
   "outputs": [
    {
     "data": {
      "text/plain": [
       "dtype('complex128')"
      ]
     },
     "execution_count": 43,
     "metadata": {},
     "output_type": "execute_result"
    }
   ],
   "source": [
    "complex_arr.dtype"
   ]
  },
  {
   "cell_type": "code",
   "execution_count": 44,
   "id": "64c87f90",
   "metadata": {},
   "outputs": [
    {
     "data": {
      "text/plain": [
       "16"
      ]
     },
     "execution_count": 44,
     "metadata": {},
     "output_type": "execute_result"
    }
   ],
   "source": [
    "complex_arr.itemsize     "
   ]
  },
  {
   "cell_type": "code",
   "execution_count": 45,
   "id": "4f2399b7",
   "metadata": {},
   "outputs": [],
   "source": [
    "array_converted_to_complex = np.array([[1,2,3],[4,5,6]], dtype = 'complex')"
   ]
  },
  {
   "cell_type": "code",
   "execution_count": 46,
   "id": "b5c970dc",
   "metadata": {},
   "outputs": [
    {
     "data": {
      "text/plain": [
       "dtype('complex128')"
      ]
     },
     "execution_count": 46,
     "metadata": {},
     "output_type": "execute_result"
    }
   ],
   "source": [
    "array_converted_to_complex.dtype"
   ]
  },
  {
   "cell_type": "markdown",
   "id": "f7656dca",
   "metadata": {},
   "source": [
    "### np.zeros"
   ]
  },
  {
   "cell_type": "code",
   "execution_count": 47,
   "id": "10c9e462",
   "metadata": {},
   "outputs": [],
   "source": [
    "zeros_arr = np.zeros([2,4])"
   ]
  },
  {
   "cell_type": "code",
   "execution_count": 48,
   "id": "cc4641d1",
   "metadata": {},
   "outputs": [
    {
     "data": {
      "text/plain": [
       "array([[0., 0., 0., 0.],\n",
       "       [0., 0., 0., 0.]])"
      ]
     },
     "execution_count": 48,
     "metadata": {},
     "output_type": "execute_result"
    }
   ],
   "source": [
    "zeros_arr"
   ]
  },
  {
   "cell_type": "code",
   "execution_count": 49,
   "id": "55c472b0",
   "metadata": {},
   "outputs": [],
   "source": [
    "zeros_arr.dtype = 'int64'"
   ]
  },
  {
   "cell_type": "code",
   "execution_count": 50,
   "id": "7474d895",
   "metadata": {},
   "outputs": [
    {
     "data": {
      "text/plain": [
       "array([[0, 0, 0, 0],\n",
       "       [0, 0, 0, 0]])"
      ]
     },
     "execution_count": 50,
     "metadata": {},
     "output_type": "execute_result"
    }
   ],
   "source": [
    "zeros_arr"
   ]
  },
  {
   "cell_type": "code",
   "execution_count": 51,
   "id": "32460cdd",
   "metadata": {},
   "outputs": [
    {
     "data": {
      "text/plain": [
       "dtype('int64')"
      ]
     },
     "execution_count": 51,
     "metadata": {},
     "output_type": "execute_result"
    }
   ],
   "source": [
    "zeros_arr.dtype"
   ]
  },
  {
   "cell_type": "markdown",
   "id": "434d6a9c",
   "metadata": {},
   "source": [
    "### np.ones"
   ]
  },
  {
   "cell_type": "code",
   "execution_count": 52,
   "id": "a34a529d",
   "metadata": {},
   "outputs": [],
   "source": [
    "ones_arr = np.ones([3,2])"
   ]
  },
  {
   "cell_type": "code",
   "execution_count": 53,
   "id": "d655b2af",
   "metadata": {},
   "outputs": [
    {
     "data": {
      "text/plain": [
       "array([[1., 1.],\n",
       "       [1., 1.],\n",
       "       [1., 1.]])"
      ]
     },
     "execution_count": 53,
     "metadata": {},
     "output_type": "execute_result"
    }
   ],
   "source": [
    "ones_arr"
   ]
  },
  {
   "cell_type": "code",
   "execution_count": 54,
   "id": "441dfbcc",
   "metadata": {},
   "outputs": [
    {
     "data": {
      "text/plain": [
       "2"
      ]
     },
     "execution_count": 54,
     "metadata": {},
     "output_type": "execute_result"
    }
   ],
   "source": [
    "ones_arr.ndim"
   ]
  },
  {
   "cell_type": "code",
   "execution_count": 55,
   "id": "1be17095",
   "metadata": {},
   "outputs": [
    {
     "data": {
      "text/plain": [
       "dtype('float64')"
      ]
     },
     "execution_count": 55,
     "metadata": {},
     "output_type": "execute_result"
    }
   ],
   "source": [
    "ones_arr.dtype"
   ]
  },
  {
   "cell_type": "markdown",
   "id": "2de4aa82",
   "metadata": {},
   "source": [
    "### linspace"
   ]
  },
  {
   "cell_type": "code",
   "execution_count": 56,
   "id": "0f3dddb6",
   "metadata": {},
   "outputs": [],
   "source": [
    "linear_spaced_arr = np.linspace(0,10,20)"
   ]
  },
  {
   "cell_type": "code",
   "execution_count": 57,
   "id": "d456610e",
   "metadata": {},
   "outputs": [
    {
     "name": "stdout",
     "output_type": "stream",
     "text": [
      "[ 0.          0.52631579  1.05263158  1.57894737  2.10526316  2.63157895\n",
      "  3.15789474  3.68421053  4.21052632  4.73684211  5.26315789  5.78947368\n",
      "  6.31578947  6.84210526  7.36842105  7.89473684  8.42105263  8.94736842\n",
      "  9.47368421 10.        ]\n"
     ]
    }
   ],
   "source": [
    "print(linear_spaced_arr)"
   ]
  },
  {
   "cell_type": "code",
   "execution_count": 58,
   "id": "93a47c44",
   "metadata": {},
   "outputs": [],
   "source": [
    "linear_spaced_arr = np.linspace(0,1,5)"
   ]
  },
  {
   "cell_type": "code",
   "execution_count": 59,
   "id": "94c489cd",
   "metadata": {},
   "outputs": [
    {
     "data": {
      "text/plain": [
       "array([0.  , 0.25, 0.5 , 0.75, 1.  ])"
      ]
     },
     "execution_count": 59,
     "metadata": {},
     "output_type": "execute_result"
    }
   ],
   "source": [
    "linear_spaced_arr"
   ]
  },
  {
   "cell_type": "markdown",
   "id": "43a3d4e0",
   "metadata": {},
   "source": [
    "### trignometric functions"
   ]
  },
  {
   "cell_type": "code",
   "execution_count": 60,
   "id": "3a1c0259",
   "metadata": {},
   "outputs": [],
   "source": [
    "from numpy import pi"
   ]
  },
  {
   "cell_type": "code",
   "execution_count": 61,
   "id": "c83d2302",
   "metadata": {},
   "outputs": [],
   "source": [
    "# as we know ange 360 can be given as 2*pi"
   ]
  },
  {
   "cell_type": "code",
   "execution_count": 62,
   "id": "b7efa3e8",
   "metadata": {},
   "outputs": [],
   "source": [
    "lineaar_spaced_100_values = np.linspace(0,2*pi,100)"
   ]
  },
  {
   "cell_type": "code",
   "execution_count": 63,
   "id": "7525d34f",
   "metadata": {},
   "outputs": [
    {
     "data": {
      "text/plain": [
       "array([ 0.00000000e+00,  6.34239197e-02,  1.26592454e-01,  1.89251244e-01,\n",
       "        2.51147987e-01,  3.12033446e-01,  3.71662456e-01,  4.29794912e-01,\n",
       "        4.86196736e-01,  5.40640817e-01,  5.92907929e-01,  6.42787610e-01,\n",
       "        6.90079011e-01,  7.34591709e-01,  7.76146464e-01,  8.14575952e-01,\n",
       "        8.49725430e-01,  8.81453363e-01,  9.09631995e-01,  9.34147860e-01,\n",
       "        9.54902241e-01,  9.71811568e-01,  9.84807753e-01,  9.93838464e-01,\n",
       "        9.98867339e-01,  9.99874128e-01,  9.96854776e-01,  9.89821442e-01,\n",
       "        9.78802446e-01,  9.63842159e-01,  9.45000819e-01,  9.22354294e-01,\n",
       "        8.95993774e-01,  8.66025404e-01,  8.32569855e-01,  7.95761841e-01,\n",
       "        7.55749574e-01,  7.12694171e-01,  6.66769001e-01,  6.18158986e-01,\n",
       "        5.67059864e-01,  5.13677392e-01,  4.58226522e-01,  4.00930535e-01,\n",
       "        3.42020143e-01,  2.81732557e-01,  2.20310533e-01,  1.58001396e-01,\n",
       "        9.50560433e-02,  3.17279335e-02, -3.17279335e-02, -9.50560433e-02,\n",
       "       -1.58001396e-01, -2.20310533e-01, -2.81732557e-01, -3.42020143e-01,\n",
       "       -4.00930535e-01, -4.58226522e-01, -5.13677392e-01, -5.67059864e-01,\n",
       "       -6.18158986e-01, -6.66769001e-01, -7.12694171e-01, -7.55749574e-01,\n",
       "       -7.95761841e-01, -8.32569855e-01, -8.66025404e-01, -8.95993774e-01,\n",
       "       -9.22354294e-01, -9.45000819e-01, -9.63842159e-01, -9.78802446e-01,\n",
       "       -9.89821442e-01, -9.96854776e-01, -9.99874128e-01, -9.98867339e-01,\n",
       "       -9.93838464e-01, -9.84807753e-01, -9.71811568e-01, -9.54902241e-01,\n",
       "       -9.34147860e-01, -9.09631995e-01, -8.81453363e-01, -8.49725430e-01,\n",
       "       -8.14575952e-01, -7.76146464e-01, -7.34591709e-01, -6.90079011e-01,\n",
       "       -6.42787610e-01, -5.92907929e-01, -5.40640817e-01, -4.86196736e-01,\n",
       "       -4.29794912e-01, -3.71662456e-01, -3.12033446e-01, -2.51147987e-01,\n",
       "       -1.89251244e-01, -1.26592454e-01, -6.34239197e-02, -2.44929360e-16])"
      ]
     },
     "execution_count": 63,
     "metadata": {},
     "output_type": "execute_result"
    }
   ],
   "source": [
    "np.sin(lineaar_spaced_100_values)"
   ]
  },
  {
   "cell_type": "code",
   "execution_count": 64,
   "id": "22db84ad",
   "metadata": {},
   "outputs": [],
   "source": [
    "# np.sin( should pass correspondig radian value of the angle )"
   ]
  },
  {
   "cell_type": "code",
   "execution_count": 65,
   "id": "bb9b8d5f",
   "metadata": {},
   "outputs": [
    {
     "name": "stdout",
     "output_type": "stream",
     "text": [
      "1.0\n"
     ]
    }
   ],
   "source": [
    "print(np.sin(90*pi/180))"
   ]
  },
  {
   "cell_type": "markdown",
   "id": "8e4aba32",
   "metadata": {},
   "source": [
    "### $^like methods"
   ]
  },
  {
   "cell_type": "code",
   "execution_count": 66,
   "id": "e3b010c1",
   "metadata": {},
   "outputs": [
    {
     "data": {
      "text/plain": [
       "array([0, 0, 0, 0, 0, 0, 0, 0, 0, 0])"
      ]
     },
     "execution_count": 66,
     "metadata": {},
     "output_type": "execute_result"
    }
   ],
   "source": [
    "np.zeros_like(my_arr)"
   ]
  },
  {
   "cell_type": "code",
   "execution_count": 67,
   "id": "a55a4970",
   "metadata": {},
   "outputs": [
    {
     "data": {
      "text/plain": [
       "array([[1, 1, 1, 1, 1],\n",
       "       [1, 1, 1, 1, 1]])"
      ]
     },
     "execution_count": 67,
     "metadata": {},
     "output_type": "execute_result"
    }
   ],
   "source": [
    "np.ones_like(my_reshaped_arr)"
   ]
  },
  {
   "cell_type": "code",
   "execution_count": 68,
   "id": "1cbc5154",
   "metadata": {},
   "outputs": [
    {
     "data": {
      "text/plain": [
       "array([2., 2., 2., 2., 2., 2., 2., 2., 2.], dtype=float32)"
      ]
     },
     "execution_count": 68,
     "metadata": {},
     "output_type": "execute_result"
    }
   ],
   "source": [
    "np.full_like(my_arr_dtype_example,2)"
   ]
  },
  {
   "cell_type": "code",
   "execution_count": 69,
   "id": "77cf8e25",
   "metadata": {},
   "outputs": [
    {
     "data": {
      "text/plain": [
       "array([5., 5., 5., 5., 5., 5., 5., 5., 5.], dtype=float32)"
      ]
     },
     "execution_count": 69,
     "metadata": {},
     "output_type": "execute_result"
    }
   ],
   "source": [
    "np.full_like(my_arr_dtype_example,5)"
   ]
  },
  {
   "cell_type": "code",
   "execution_count": 70,
   "id": "91929c8f",
   "metadata": {},
   "outputs": [
    {
     "data": {
      "text/plain": [
       "array([           0,            0,            0,            0,\n",
       "                  0,           -1,           -1, 120259084289,\n",
       "                  1,            0])"
      ]
     },
     "execution_count": 70,
     "metadata": {},
     "output_type": "execute_result"
    }
   ],
   "source": [
    "np.empty_like(my_arr)    # inserts some garbage values into my_arr"
   ]
  },
  {
   "cell_type": "markdown",
   "id": "c2e2c590",
   "metadata": {},
   "source": [
    "### copy"
   ]
  },
  {
   "cell_type": "code",
   "execution_count": 71,
   "id": "21044ce3",
   "metadata": {},
   "outputs": [],
   "source": [
    "copy_arr = np.array(first_array,copy = True)"
   ]
  },
  {
   "cell_type": "code",
   "execution_count": 72,
   "id": "3ef10939",
   "metadata": {},
   "outputs": [
    {
     "data": {
      "text/plain": [
       "array([2, 3, 4])"
      ]
     },
     "execution_count": 72,
     "metadata": {},
     "output_type": "execute_result"
    }
   ],
   "source": [
    "copy_arr"
   ]
  },
  {
   "cell_type": "markdown",
   "id": "080823f7",
   "metadata": {},
   "source": [
    "### mat"
   ]
  },
  {
   "cell_type": "code",
   "execution_count": 73,
   "id": "e35e1654",
   "metadata": {},
   "outputs": [],
   "source": [
    "matrix_array = np.array(np.mat('1 3 2; 3 4 4'))     # always (nxn) matrix cannot create (mxn)"
   ]
  },
  {
   "cell_type": "code",
   "execution_count": 74,
   "id": "3e5b28d9",
   "metadata": {},
   "outputs": [
    {
     "data": {
      "text/plain": [
       "array([[1, 3, 2],\n",
       "       [3, 4, 4]])"
      ]
     },
     "execution_count": 74,
     "metadata": {},
     "output_type": "execute_result"
    }
   ],
   "source": [
    "matrix_array"
   ]
  },
  {
   "cell_type": "markdown",
   "id": "6b3c463c",
   "metadata": {},
   "source": [
    "### asarray"
   ]
  },
  {
   "cell_type": "code",
   "execution_count": 75,
   "id": "f11e7dba",
   "metadata": {},
   "outputs": [],
   "source": [
    "l = [1,2,3]\n",
    "m = [[22,3,4],[1,6,8]]"
   ]
  },
  {
   "cell_type": "code",
   "execution_count": 76,
   "id": "3b0bc09e",
   "metadata": {},
   "outputs": [],
   "source": [
    "as_an_array = np.asarray(l)"
   ]
  },
  {
   "cell_type": "code",
   "execution_count": 77,
   "id": "0eb20fb1",
   "metadata": {},
   "outputs": [
    {
     "data": {
      "text/plain": [
       "array([1, 2, 3])"
      ]
     },
     "execution_count": 77,
     "metadata": {},
     "output_type": "execute_result"
    }
   ],
   "source": [
    "as_an_array"
   ]
  },
  {
   "cell_type": "code",
   "execution_count": 78,
   "id": "431beeca",
   "metadata": {},
   "outputs": [
    {
     "data": {
      "text/plain": [
       "array([ True,  True,  True])"
      ]
     },
     "execution_count": 78,
     "metadata": {},
     "output_type": "execute_result"
    }
   ],
   "source": [
    "as_an_array == np.asarray(as_an_array)"
   ]
  },
  {
   "cell_type": "markdown",
   "id": "53aa1391",
   "metadata": {},
   "source": [
    "### shape "
   ]
  },
  {
   "cell_type": "code",
   "execution_count": 79,
   "id": "d0def75d",
   "metadata": {},
   "outputs": [
    {
     "data": {
      "text/plain": [
       "(3,)"
      ]
     },
     "execution_count": 79,
     "metadata": {},
     "output_type": "execute_result"
    }
   ],
   "source": [
    "as_an_array.shape"
   ]
  },
  {
   "cell_type": "code",
   "execution_count": 80,
   "id": "b60492fa",
   "metadata": {},
   "outputs": [
    {
     "data": {
      "text/plain": [
       "(2, 3)"
      ]
     },
     "execution_count": 80,
     "metadata": {},
     "output_type": "execute_result"
    }
   ],
   "source": [
    "two_D_array.shape"
   ]
  },
  {
   "cell_type": "markdown",
   "id": "c2530221",
   "metadata": {},
   "source": [
    "### flatten"
   ]
  },
  {
   "cell_type": "code",
   "execution_count": 81,
   "id": "c90db8a8",
   "metadata": {},
   "outputs": [
    {
     "data": {
      "text/plain": [
       "array([ 1,  2,  3, 11, 22, 33])"
      ]
     },
     "execution_count": 81,
     "metadata": {},
     "output_type": "execute_result"
    }
   ],
   "source": [
    "two_D_array.flatten()     # row-major"
   ]
  },
  {
   "cell_type": "code",
   "execution_count": 82,
   "id": "fbb06a2d",
   "metadata": {},
   "outputs": [
    {
     "data": {
      "text/plain": [
       "array([[ 1,  2,  3],\n",
       "       [11, 22, 33]])"
      ]
     },
     "execution_count": 82,
     "metadata": {},
     "output_type": "execute_result"
    }
   ],
   "source": [
    "two_D_array"
   ]
  },
  {
   "cell_type": "code",
   "execution_count": 83,
   "id": "7634e4a0",
   "metadata": {},
   "outputs": [
    {
     "data": {
      "text/plain": [
       "array([ 1, 11,  2, 22,  3, 33])"
      ]
     },
     "execution_count": 83,
     "metadata": {},
     "output_type": "execute_result"
    }
   ],
   "source": [
    "two_D_array.flatten('F')   # column major"
   ]
  },
  {
   "cell_type": "markdown",
   "id": "6d1ffb9e",
   "metadata": {},
   "source": [
    "### axis and transpose"
   ]
  },
  {
   "cell_type": "code",
   "execution_count": 84,
   "id": "724d1ba0",
   "metadata": {},
   "outputs": [],
   "source": [
    "axis_example_arr = np.linspace(1,37,36).reshape(3,2,6)"
   ]
  },
  {
   "cell_type": "code",
   "execution_count": 85,
   "id": "94d31f81",
   "metadata": {},
   "outputs": [
    {
     "data": {
      "text/plain": [
       "(3, 2, 6)"
      ]
     },
     "execution_count": 85,
     "metadata": {},
     "output_type": "execute_result"
    }
   ],
   "source": [
    "axis_example_arr.shape"
   ]
  },
  {
   "cell_type": "code",
   "execution_count": 86,
   "id": "93937b88",
   "metadata": {},
   "outputs": [
    {
     "data": {
      "text/plain": [
       "(2, 6, 3)"
      ]
     },
     "execution_count": 86,
     "metadata": {},
     "output_type": "execute_result"
    }
   ],
   "source": [
    "np.moveaxis(axis_example_arr, 0,-1).shape"
   ]
  },
  {
   "cell_type": "code",
   "execution_count": 87,
   "id": "12dc316e",
   "metadata": {},
   "outputs": [
    {
     "data": {
      "text/plain": [
       "(3, 6, 2)"
      ]
     },
     "execution_count": 87,
     "metadata": {},
     "output_type": "execute_result"
    }
   ],
   "source": [
    "np.moveaxis(axis_example_arr, -1, 1).shape"
   ]
  },
  {
   "cell_type": "code",
   "execution_count": 88,
   "id": "5691f8c1",
   "metadata": {},
   "outputs": [
    {
     "data": {
      "text/plain": [
       "(2, 3, 6)"
      ]
     },
     "execution_count": 88,
     "metadata": {},
     "output_type": "execute_result"
    }
   ],
   "source": [
    "np.swapaxes(axis_example_arr , 1,0).shape"
   ]
  },
  {
   "cell_type": "code",
   "execution_count": 89,
   "id": "5dca3e88",
   "metadata": {},
   "outputs": [
    {
     "data": {
      "text/plain": [
       "(6, 2, 3)"
      ]
     },
     "execution_count": 89,
     "metadata": {},
     "output_type": "execute_result"
    }
   ],
   "source": [
    "np.transpose(axis_example_arr).shape"
   ]
  },
  {
   "cell_type": "code",
   "execution_count": 90,
   "id": "658e8b2a",
   "metadata": {},
   "outputs": [
    {
     "data": {
      "text/plain": [
       "(2, 3)"
      ]
     },
     "execution_count": 90,
     "metadata": {},
     "output_type": "execute_result"
    }
   ],
   "source": [
    "two_D_array.shape"
   ]
  },
  {
   "cell_type": "code",
   "execution_count": 91,
   "id": "9928a97d",
   "metadata": {},
   "outputs": [
    {
     "data": {
      "text/plain": [
       "(3, 2)"
      ]
     },
     "execution_count": 91,
     "metadata": {},
     "output_type": "execute_result"
    }
   ],
   "source": [
    "np.transpose(two_D_array).shape"
   ]
  },
  {
   "cell_type": "markdown",
   "id": "d892ef5e",
   "metadata": {},
   "source": [
    "### max and min"
   ]
  },
  {
   "cell_type": "code",
   "execution_count": 92,
   "id": "4fd4453f",
   "metadata": {},
   "outputs": [
    {
     "data": {
      "text/plain": [
       "4"
      ]
     },
     "execution_count": 92,
     "metadata": {},
     "output_type": "execute_result"
    }
   ],
   "source": [
    "np.max(first_array)"
   ]
  },
  {
   "cell_type": "code",
   "execution_count": 93,
   "id": "a5227bc2",
   "metadata": {},
   "outputs": [
    {
     "data": {
      "text/plain": [
       "1"
      ]
     },
     "execution_count": 93,
     "metadata": {},
     "output_type": "execute_result"
    }
   ],
   "source": [
    "np.min(two_D_array)"
   ]
  },
  {
   "cell_type": "markdown",
   "id": "c2ff5132",
   "metadata": {},
   "source": [
    "### stack"
   ]
  },
  {
   "cell_type": "code",
   "execution_count": 94,
   "id": "6a5b34e8",
   "metadata": {},
   "outputs": [],
   "source": [
    "x = np.array([1,2,4])\n",
    "y = np.array([0,7,8])"
   ]
  },
  {
   "cell_type": "code",
   "execution_count": 95,
   "id": "37dfbcde",
   "metadata": {},
   "outputs": [
    {
     "data": {
      "text/plain": [
       "array([[1, 2, 4],\n",
       "       [0, 7, 8]])"
      ]
     },
     "execution_count": 95,
     "metadata": {},
     "output_type": "execute_result"
    }
   ],
   "source": [
    "np.stack((x,y))    # should pass a tuple all arrays should be of same shape"
   ]
  },
  {
   "cell_type": "code",
   "execution_count": 96,
   "id": "49be74b3",
   "metadata": {},
   "outputs": [
    {
     "data": {
      "text/plain": [
       "array([1, 2, 4])"
      ]
     },
     "execution_count": 96,
     "metadata": {},
     "output_type": "execute_result"
    }
   ],
   "source": [
    "np.stack(x)"
   ]
  },
  {
   "cell_type": "code",
   "execution_count": 97,
   "id": "9601bcd4",
   "metadata": {},
   "outputs": [],
   "source": [
    "z = np.array([11,22,34])"
   ]
  },
  {
   "cell_type": "code",
   "execution_count": 98,
   "id": "0563d330",
   "metadata": {},
   "outputs": [
    {
     "data": {
      "text/plain": [
       "array([[ 1,  2,  4],\n",
       "       [ 0,  7,  8],\n",
       "       [11, 22, 34]])"
      ]
     },
     "execution_count": 98,
     "metadata": {},
     "output_type": "execute_result"
    }
   ],
   "source": [
    "np.stack((x,y,z))"
   ]
  },
  {
   "cell_type": "markdown",
   "id": "3125a1dc",
   "metadata": {},
   "source": [
    "#### ravel"
   ]
  },
  {
   "cell_type": "code",
   "execution_count": 99,
   "id": "ac801eb6",
   "metadata": {},
   "outputs": [
    {
     "data": {
      "text/plain": [
       "array([[ 1,  2,  3],\n",
       "       [11, 22, 33]])"
      ]
     },
     "execution_count": 99,
     "metadata": {},
     "output_type": "execute_result"
    }
   ],
   "source": [
    "two_D_array"
   ]
  },
  {
   "cell_type": "code",
   "execution_count": 100,
   "id": "d2b3ef13",
   "metadata": {},
   "outputs": [
    {
     "data": {
      "text/plain": [
       "array([ 1,  2,  3, 11, 22, 33])"
      ]
     },
     "execution_count": 100,
     "metadata": {},
     "output_type": "execute_result"
    }
   ],
   "source": [
    "np.ravel(two_D_array)"
   ]
  },
  {
   "cell_type": "code",
   "execution_count": 101,
   "id": "924d604f",
   "metadata": {},
   "outputs": [
    {
     "data": {
      "text/plain": [
       "array([ 1, 11,  2, 22,  3, 33])"
      ]
     },
     "execution_count": 101,
     "metadata": {},
     "output_type": "execute_result"
    }
   ],
   "source": [
    "np.ravel(two_D_array,'F')"
   ]
  },
  {
   "cell_type": "code",
   "execution_count": 102,
   "id": "9eab7b77",
   "metadata": {},
   "outputs": [
    {
     "data": {
      "text/plain": [
       "array([ 1,  2,  3, 11, 22, 33])"
      ]
     },
     "execution_count": 102,
     "metadata": {},
     "output_type": "execute_result"
    }
   ],
   "source": [
    "np.ravel(two_D_array,'C')"
   ]
  },
  {
   "cell_type": "markdown",
   "id": "493bfeb2",
   "metadata": {},
   "source": [
    "#### expand_dims"
   ]
  },
  {
   "cell_type": "code",
   "execution_count": 103,
   "id": "24b1e7e9",
   "metadata": {},
   "outputs": [],
   "source": [
    "expand_dims_arr = np.linspace(1,101,36)"
   ]
  },
  {
   "cell_type": "code",
   "execution_count": 104,
   "id": "00576e8b",
   "metadata": {},
   "outputs": [
    {
     "data": {
      "text/plain": [
       "array([  1.        ,   3.85714286,   6.71428571,   9.57142857,\n",
       "        12.42857143,  15.28571429,  18.14285714,  21.        ,\n",
       "        23.85714286,  26.71428571,  29.57142857,  32.42857143,\n",
       "        35.28571429,  38.14285714,  41.        ,  43.85714286,\n",
       "        46.71428571,  49.57142857,  52.42857143,  55.28571429,\n",
       "        58.14285714,  61.        ,  63.85714286,  66.71428571,\n",
       "        69.57142857,  72.42857143,  75.28571429,  78.14285714,\n",
       "        81.        ,  83.85714286,  86.71428571,  89.57142857,\n",
       "        92.42857143,  95.28571429,  98.14285714, 101.        ])"
      ]
     },
     "execution_count": 104,
     "metadata": {},
     "output_type": "execute_result"
    }
   ],
   "source": [
    "expand_dims_arr"
   ]
  },
  {
   "cell_type": "code",
   "execution_count": 105,
   "id": "b5c78e36",
   "metadata": {},
   "outputs": [
    {
     "data": {
      "text/plain": [
       "(36,)"
      ]
     },
     "execution_count": 105,
     "metadata": {},
     "output_type": "execute_result"
    }
   ],
   "source": [
    "expand_dims_arr.shape"
   ]
  },
  {
   "cell_type": "code",
   "execution_count": 106,
   "id": "48bdccd9",
   "metadata": {},
   "outputs": [
    {
     "data": {
      "text/plain": [
       "(1, 36)"
      ]
     },
     "execution_count": 106,
     "metadata": {},
     "output_type": "execute_result"
    }
   ],
   "source": [
    "np.expand_dims(expand_dims_arr, axis = 0).shape"
   ]
  },
  {
   "cell_type": "code",
   "execution_count": 107,
   "id": "6ddb3cff",
   "metadata": {},
   "outputs": [
    {
     "data": {
      "text/plain": [
       "(36, 1)"
      ]
     },
     "execution_count": 107,
     "metadata": {},
     "output_type": "execute_result"
    }
   ],
   "source": [
    "np.expand_dims(expand_dims_arr, axis = 1).shape"
   ]
  },
  {
   "cell_type": "markdown",
   "id": "e1dffd5a",
   "metadata": {},
   "source": [
    "### split"
   ]
  },
  {
   "cell_type": "code",
   "execution_count": 108,
   "id": "a5279ec6",
   "metadata": {},
   "outputs": [],
   "source": [
    "split_arr = np.linspace(1,10,12);"
   ]
  },
  {
   "cell_type": "code",
   "execution_count": 109,
   "id": "fe86489a",
   "metadata": {},
   "outputs": [
    {
     "data": {
      "text/plain": [
       "array([ 1.        ,  1.81818182,  2.63636364,  3.45454545,  4.27272727,\n",
       "        5.09090909,  5.90909091,  6.72727273,  7.54545455,  8.36363636,\n",
       "        9.18181818, 10.        ])"
      ]
     },
     "execution_count": 109,
     "metadata": {},
     "output_type": "execute_result"
    }
   ],
   "source": [
    "split_arr"
   ]
  },
  {
   "cell_type": "code",
   "execution_count": 110,
   "id": "28ed1fbf",
   "metadata": {},
   "outputs": [
    {
     "name": "stdout",
     "output_type": "stream",
     "text": [
      "[array([1.        , 1.81818182, 2.63636364, 3.45454545]), array([4.27272727, 5.09090909, 5.90909091, 6.72727273]), array([ 7.54545455,  8.36363636,  9.18181818, 10.        ])]\n",
      "length is  3\n"
     ]
    }
   ],
   "source": [
    "print(np.split(split_arr,3))     # returns a list of numpy_array_objects\n",
    "print(\"length is \",len(np.split(split_arr,3)))"
   ]
  },
  {
   "cell_type": "code",
   "execution_count": 111,
   "id": "3cc44500",
   "metadata": {},
   "outputs": [
    {
     "name": "stdout",
     "output_type": "stream",
     "text": [
      "[array([1.        , 1.81818182, 2.63636364]), array([3.45454545, 4.27272727, 5.09090909]), array([5.90909091, 6.72727273, 7.54545455]), array([ 8.36363636,  9.18181818, 10.        ])]\n",
      "length is  4\n"
     ]
    }
   ],
   "source": [
    "print(np.split(split_arr,4))     \n",
    "print(\"length is \",len(np.split(split_arr,4)))"
   ]
  },
  {
   "cell_type": "code",
   "execution_count": 112,
   "id": "c0696179",
   "metadata": {},
   "outputs": [
    {
     "name": "stdout",
     "output_type": "stream",
     "text": [
      "[array([1.        , 1.81818182]), array([2.63636364, 3.45454545]), array([4.27272727, 5.09090909]), array([5.90909091, 6.72727273]), array([7.54545455, 8.36363636]), array([ 9.18181818, 10.        ])]\n",
      "length is  6\n"
     ]
    }
   ],
   "source": [
    "print(np.split(split_arr,6))     \n",
    "print(\"length is \",len(np.split(split_arr,6)))"
   ]
  },
  {
   "cell_type": "code",
   "execution_count": 113,
   "id": "57527083",
   "metadata": {},
   "outputs": [
    {
     "data": {
      "text/plain": [
       "[array([1.        , 1.81818182, 2.63636364]),\n",
       " array([3.45454545, 4.27272727, 5.09090909]),\n",
       " array([5.90909091, 6.72727273]),\n",
       " array([7.54545455, 8.36363636]),\n",
       " array([ 9.18181818, 10.        ])]"
      ]
     },
     "execution_count": 113,
     "metadata": {},
     "output_type": "execute_result"
    }
   ],
   "source": [
    "np.array_split(split_arr,5)"
   ]
  },
  {
   "cell_type": "markdown",
   "id": "c6bfd9e9",
   "metadata": {},
   "source": [
    "### hsplit and vsplit"
   ]
  },
  {
   "cell_type": "code",
   "execution_count": 114,
   "id": "146326e5",
   "metadata": {},
   "outputs": [
    {
     "data": {
      "text/plain": [
       "(12,)"
      ]
     },
     "execution_count": 114,
     "metadata": {},
     "output_type": "execute_result"
    }
   ],
   "source": [
    "split_arr.shape"
   ]
  },
  {
   "cell_type": "code",
   "execution_count": 115,
   "id": "03e89f4c",
   "metadata": {},
   "outputs": [],
   "source": [
    "splits_arr = np.arange(1,17).reshape(4,4)"
   ]
  },
  {
   "cell_type": "code",
   "execution_count": 116,
   "id": "e2563f88",
   "metadata": {},
   "outputs": [
    {
     "data": {
      "text/plain": [
       "array([[ 1,  2,  3,  4],\n",
       "       [ 5,  6,  7,  8],\n",
       "       [ 9, 10, 11, 12],\n",
       "       [13, 14, 15, 16]])"
      ]
     },
     "execution_count": 116,
     "metadata": {},
     "output_type": "execute_result"
    }
   ],
   "source": [
    "splits_arr"
   ]
  },
  {
   "cell_type": "code",
   "execution_count": 117,
   "id": "097b2b63",
   "metadata": {},
   "outputs": [
    {
     "data": {
      "text/plain": [
       "[array([[1, 2, 3, 4],\n",
       "        [5, 6, 7, 8]]),\n",
       " array([[ 9, 10, 11, 12],\n",
       "        [13, 14, 15, 16]])]"
      ]
     },
     "execution_count": 117,
     "metadata": {},
     "output_type": "execute_result"
    }
   ],
   "source": [
    "np.vsplit(splits_arr,2)"
   ]
  },
  {
   "cell_type": "code",
   "execution_count": 118,
   "id": "0e4a6065",
   "metadata": {},
   "outputs": [
    {
     "data": {
      "text/plain": [
       "[array([[ 1,  2],\n",
       "        [ 5,  6],\n",
       "        [ 9, 10],\n",
       "        [13, 14]]),\n",
       " array([[ 3,  4],\n",
       "        [ 7,  8],\n",
       "        [11, 12],\n",
       "        [15, 16]])]"
      ]
     },
     "execution_count": 118,
     "metadata": {},
     "output_type": "execute_result"
    }
   ],
   "source": [
    "np.hsplit(splits_arr,2)"
   ]
  },
  {
   "cell_type": "markdown",
   "id": "acaedc35",
   "metadata": {},
   "source": [
    "### trim_zeros"
   ]
  },
  {
   "cell_type": "code",
   "execution_count": 119,
   "id": "d3b8d0d7",
   "metadata": {},
   "outputs": [],
   "source": [
    "trim_arr = np.array([0,0,1,2,3,0])"
   ]
  },
  {
   "cell_type": "code",
   "execution_count": 120,
   "id": "ff1586ce",
   "metadata": {},
   "outputs": [
    {
     "data": {
      "text/plain": [
       "array([1, 2, 3])"
      ]
     },
     "execution_count": 120,
     "metadata": {},
     "output_type": "execute_result"
    }
   ],
   "source": [
    "np.trim_zeros(trim_arr)"
   ]
  },
  {
   "cell_type": "markdown",
   "id": "b03c4f0c",
   "metadata": {},
   "source": [
    "### Accessing elements"
   ]
  },
  {
   "cell_type": "code",
   "execution_count": 121,
   "id": "df40c697",
   "metadata": {},
   "outputs": [],
   "source": [
    "arr = np.array([[1,2,3,4,5],\n",
    "                [6,7,8,9,10]\n",
    "               ])"
   ]
  },
  {
   "cell_type": "code",
   "execution_count": 122,
   "id": "1fc3b626",
   "metadata": {},
   "outputs": [
    {
     "data": {
      "text/plain": [
       "array([ 6,  7,  8,  9, 10])"
      ]
     },
     "execution_count": 122,
     "metadata": {},
     "output_type": "execute_result"
    }
   ],
   "source": [
    "arr[1]"
   ]
  },
  {
   "cell_type": "code",
   "execution_count": 123,
   "id": "dbc821e4",
   "metadata": {},
   "outputs": [
    {
     "data": {
      "text/plain": [
       "10"
      ]
     },
     "execution_count": 123,
     "metadata": {},
     "output_type": "execute_result"
    }
   ],
   "source": [
    "arr[1][4]"
   ]
  },
  {
   "cell_type": "code",
   "execution_count": 124,
   "id": "421abe30",
   "metadata": {},
   "outputs": [
    {
     "data": {
      "text/plain": [
       "array([ 6,  7,  8,  9, 10])"
      ]
     },
     "execution_count": 124,
     "metadata": {},
     "output_type": "execute_result"
    }
   ],
   "source": [
    "arr[1,:]"
   ]
  },
  {
   "cell_type": "code",
   "execution_count": 125,
   "id": "899262f7",
   "metadata": {},
   "outputs": [
    {
     "data": {
      "text/plain": [
       "array([4, 9])"
      ]
     },
     "execution_count": 125,
     "metadata": {},
     "output_type": "execute_result"
    }
   ],
   "source": [
    "arr[:,3]"
   ]
  },
  {
   "cell_type": "code",
   "execution_count": 126,
   "id": "16f2c184",
   "metadata": {},
   "outputs": [
    {
     "data": {
      "text/plain": [
       "array([[33, 33, 33],\n",
       "       [33, 33, 33]])"
      ]
     },
     "execution_count": 126,
     "metadata": {},
     "output_type": "execute_result"
    }
   ],
   "source": [
    "np.full((2,3),33)"
   ]
  },
  {
   "cell_type": "code",
   "execution_count": 127,
   "id": "1a322bb1",
   "metadata": {},
   "outputs": [
    {
     "data": {
      "text/plain": [
       "array([[99, 99, 99, 99, 99],\n",
       "       [99, 99, 99, 99, 99]])"
      ]
     },
     "execution_count": 127,
     "metadata": {},
     "output_type": "execute_result"
    }
   ],
   "source": [
    "np.full_like(arr,99)"
   ]
  },
  {
   "cell_type": "markdown",
   "id": "6136ba9b",
   "metadata": {},
   "source": [
    "### random"
   ]
  },
  {
   "cell_type": "code",
   "execution_count": 128,
   "id": "b9b93891",
   "metadata": {},
   "outputs": [
    {
     "data": {
      "text/plain": [
       "array([[0.98399554, 0.88732094, 0.21052767],\n",
       "       [0.7474108 , 0.5484263 , 0.15717884]])"
      ]
     },
     "execution_count": 128,
     "metadata": {},
     "output_type": "execute_result"
    }
   ],
   "source": [
    "np.random.rand(2,3)"
   ]
  },
  {
   "cell_type": "code",
   "execution_count": 129,
   "id": "61b2698e",
   "metadata": {},
   "outputs": [
    {
     "data": {
      "text/plain": [
       "array([[0.94817342, 0.17486439, 0.60252158, 0.85994646, 0.73512176],\n",
       "       [0.44046858, 0.51163564, 0.94640179, 0.81903969, 0.32573694]])"
      ]
     },
     "execution_count": 129,
     "metadata": {},
     "output_type": "execute_result"
    }
   ],
   "source": [
    "np.random.random_sample(arr.shape)"
   ]
  },
  {
   "cell_type": "code",
   "execution_count": 130,
   "id": "a6f27b89",
   "metadata": {},
   "outputs": [
    {
     "data": {
      "text/plain": [
       "array([[3, 6, 4, 8],\n",
       "       [7, 6, 9, 4],\n",
       "       [4, 4, 3, 8],\n",
       "       [8, 8, 8, 6]])"
      ]
     },
     "execution_count": 130,
     "metadata": {},
     "output_type": "execute_result"
    }
   ],
   "source": [
    "np.random.randint(low = 3, high = 10, size = (4,4))"
   ]
  },
  {
   "cell_type": "code",
   "execution_count": 131,
   "id": "fa4071dd",
   "metadata": {},
   "outputs": [
    {
     "data": {
      "text/plain": [
       "array([17, 13, 14, 14,  9,  8, 11,  9, 18,  9,  8,  1, 11])"
      ]
     },
     "execution_count": 131,
     "metadata": {},
     "output_type": "execute_result"
    }
   ],
   "source": [
    "np.random.randint(low = 1, high = 20, size = (13))"
   ]
  },
  {
   "cell_type": "markdown",
   "id": "b46977eb",
   "metadata": {},
   "source": [
    "### identity matrix"
   ]
  },
  {
   "cell_type": "code",
   "execution_count": 132,
   "id": "b4bb0f18",
   "metadata": {},
   "outputs": [
    {
     "data": {
      "text/plain": [
       "array([[1., 0.],\n",
       "       [0., 1.]])"
      ]
     },
     "execution_count": 132,
     "metadata": {},
     "output_type": "execute_result"
    }
   ],
   "source": [
    "np.identity(2)"
   ]
  },
  {
   "cell_type": "code",
   "execution_count": 133,
   "id": "a0862091",
   "metadata": {},
   "outputs": [
    {
     "data": {
      "text/plain": [
       "array([[1., 0., 0., 0.],\n",
       "       [0., 1., 0., 0.],\n",
       "       [0., 0., 1., 0.],\n",
       "       [0., 0., 0., 1.]])"
      ]
     },
     "execution_count": 133,
     "metadata": {},
     "output_type": "execute_result"
    }
   ],
   "source": [
    "np.identity(4)"
   ]
  }
 ],
 "metadata": {
  "kernelspec": {
   "display_name": "dolby_env",
   "language": "python",
   "name": "dolby_env"
  },
  "language_info": {
   "codemirror_mode": {
    "name": "ipython",
    "version": 3
   },
   "file_extension": ".py",
   "mimetype": "text/x-python",
   "name": "python",
   "nbconvert_exporter": "python",
   "pygments_lexer": "ipython3",
   "version": "3.8.8"
  }
 },
 "nbformat": 4,
 "nbformat_minor": 5
}
